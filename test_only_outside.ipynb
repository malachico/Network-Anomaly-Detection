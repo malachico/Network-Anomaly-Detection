{
 "cells": [
  {
   "cell_type": "code",
   "execution_count": 38,
   "metadata": {},
   "outputs": [],
   "source": [
    "import dal, pandas, common, numpy\n",
    "dal.init_db()\n",
    "common.PERIODS_IN_HOUR = 4*60\n",
    "common.PERIODS_IN_DAY = common.PERIODS_IN_HOUR * 24\n",
    "from scipy.stats import multivariate_normal\n",
    "from sklearn import model_selection\n",
    "import seaborn as sns\n",
    "import matplotlib.pyplot as plt"
   ]
  },
  {
   "cell_type": "code",
   "execution_count": 2,
   "metadata": {
    "collapsed": true
   },
   "outputs": [],
   "source": [
    "%matplotlib inline"
   ]
  },
  {
   "cell_type": "code",
   "execution_count": 17,
   "metadata": {
    "collapsed": true
   },
   "outputs": [],
   "source": [
    "all_sessions = dal.get_ended_sessions()"
   ]
  },
  {
   "cell_type": "code",
   "execution_count": 47,
   "metadata": {
    "collapsed": true
   },
   "outputs": [],
   "source": [
    "def calc_prob(row):\n",
    "    global model\n",
    "    return  model.pdf((row['sessions_durations'], row['sessions_bandwidths']))\n",
    "\n",
    "def my_log(x):\n",
    "    if isinstance(x, (int, long, float, complex)):\n",
    "        return common.safe_log(common.safe_log(x))\n",
    "    else:\n",
    "        return x\n",
    "\n",
    "def get_script_data(data):\n",
    "    bots_ips = ['10.0.0.2','10.0.0.21','10.0.0.6','10.0.0.14','10.0.0.3', '88.198.23.221', '10.0.0.20', '10.0.0.12', '10.0.0.11',  '10.0.0.23', '10.0.0.18',  '10.0.0.24', '10.0.0.105',  '10.0.0.5', '10.0.0.104']\n",
    "    data.drop(data[(data['dest_ip'].isin(bots_ips) | data['src_ip'].isin(bots_ips))== False].index, inplace=True)\n",
    "\n",
    "def get_human_data(data):\n",
    "    bots_ips = ['10.0.0.2','10.0.0.21','10.0.0.6','10.0.0.14','10.0.0.3', '88.198.23.221', '10.0.0.20', '10.0.0.12', '10.0.0.11',  '10.0.0.23', '10.0.0.18',  '10.0.0.24', '10.0.0.105',  '10.0.0.5', '10.0.0.104']\n",
    "    data.drop(data[(data['dest_ip'].isin(bots_ips) | data['src_ip'].isin(bots_ips))].index, inplace=True)\n"
   ]
  },
  {
   "cell_type": "code",
   "execution_count": 4,
   "metadata": {
    "collapsed": true
   },
   "outputs": [],
   "source": [
    "def get_hours_kpis(all_kpis):\n",
    "    from collections import defaultdict\n",
    "\n",
    "    # get sorted by timestamp from mongo\n",
    "\n",
    "    current_ts = all_kpis[0]['timestamp'] - 5 * common.seconds_in_day\n",
    "    current_hour = 9\n",
    "    kpis_by_hours = defaultdict(list)\n",
    "\n",
    "    for i in range(24):\n",
    "        kpis_by_hours[current_hour] += filter(\n",
    "            lambda x: current_ts > x['timestamp'] > current_ts - common.seconds_in_hour, all_kpis)\n",
    "        current_ts -= common.seconds_in_hour\n",
    "        current_hour -= 1\n",
    "        if current_hour == -1:\n",
    "            current_hour = 23\n",
    "            #         all_kpis = filter(lambda x: x['timestamp'] < current_ts, all_kpis)\n",
    "\n",
    "    return kpis_by_hours"
   ]
  },
  {
   "cell_type": "code",
   "execution_count": 57,
   "metadata": {},
   "outputs": [],
   "source": [
    "df = get_hours_kpis(all_sessions)"
   ]
  },
  {
   "cell_type": "code",
   "execution_count": 64,
   "metadata": {},
   "outputs": [],
   "source": [
    "for i in df:\n",
    "    df[i] =  pandas.DataFrame(df[i])\n",
    "    df[i] = df[i].drop(df[i][df[i]['dest_ip'].str.match(\"10.0.*\") == False].index)\n",
    "    \n"
   ]
  },
  {
   "cell_type": "code",
   "execution_count": 59,
   "metadata": {
    "collapsed": true
   },
   "outputs": [],
   "source": [
    "for i in df:\n",
    "    get_human_data(df[i])"
   ]
  },
  {
   "cell_type": "code",
   "execution_count": 62,
   "metadata": {
    "collapsed": true
   },
   "outputs": [],
   "source": [
    "for i in df:\n",
    "    data = pandas.DataFrame()\n",
    "    data['sessions_bandwidths'] = df[i]['n_bytes']\n",
    "    data['sessions_durations'] = df[i]['timestamp'] - df[i]['start_time']\n",
    "    data['dest_ip'] = df[i]['dest_ip']\n",
    "    data['src_ip'] = df[i]['src_ip']\n",
    "    df[i] = data"
   ]
  },
  {
   "cell_type": "code",
   "execution_count": 71,
   "metadata": {},
   "outputs": [
    {
     "data": {
      "text/plain": [
       "<matplotlib.axes.AxesSubplot at 0x50c84850>"
      ]
     },
     "execution_count": 71,
     "metadata": {},
     "output_type": "execute_result"
    },
    {
     "data": {
      "image/png": "[encoded data removed]",
      "text/plain": [
       "<matplotlib.figure.Figure at 0x50c8a950>"
      ]
     },
     "metadata": {},
     "output_type": "display_data"
    }
   ],
   "source": [
    "x = df[14]['sessions_bandwidths'].apply(lambda x: my_log(x))\n",
    "sns.distplot(x, hist=True)\n"
   ]
  }
 ],
 "metadata": {
  "kernelspec": {
   "display_name": "Python 2",
   "language": "python",
   "name": "python2"
  },
  "language_info": {
   "codemirror_mode": {
    "name": "ipython",
    "version": 2
   },
   "file_extension": ".py",
   "mimetype": "text/x-python",
   "name": "python",
   "nbconvert_exporter": "python",
   "pygments_lexer": "ipython2",
   "version": "2.7.5"
  }
 },
 "nbformat": 4,
 "nbformat_minor": 1
}
